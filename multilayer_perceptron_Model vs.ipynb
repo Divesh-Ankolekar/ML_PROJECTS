{
  "cells": [
    {
      "cell_type": "markdown",
      "id": "mOburKxSFjkn",
      "metadata": {
        "id": "mOburKxSFjkn"
      },
      "source": [
        "# Importing Libraries"
      ]
    },
    {
      "cell_type": "code",
      "execution_count": 540,
      "id": "9de18879",
      "metadata": {
        "colab": {
          "base_uri": "https://localhost:8080/",
          "height": 0
        },
        "id": "9de18879",
        "outputId": "b688ee4f-ecf7-48cd-a09f-8079fcd5a427"
      },
      "outputs": [
        {
          "name": "stdout",
          "output_type": "stream",
          "text": [
            "   User ID Gender  Age  AnnualSalary  Purchased\n",
            "0      385   Male   35         20000          0\n",
            "1      681   Male   40         43500          0\n",
            "2      353   Male   49         74000          0\n",
            "3      895   Male   40        107500          1\n",
            "4      661   Male   25         79000          0\n"
          ]
        }
      ],
      "source": [
        "import pandas as pd\n",
        "import numpy as np \n",
        "import warnings\n",
        "warnings.filterwarnings('ignore')"
      ]
    },
    {
      "cell_type": "markdown",
      "id": "v3jAdlyRGKOf",
      "metadata": {
        "id": "v3jAdlyRGKOf"
      },
      "source": [
        "# Reading Data"
      ]
    },
    {
      "cell_type": "code",
      "execution_count": 552,
      "id": "304396e6",
      "metadata": {
        "colab": {
          "base_uri": "https://localhost:8080/",
          "height": 0
        },
        "id": "304396e6",
        "outputId": "4ca7e42b-664f-443a-fcd6-8f93b517e5b2"
      },
      "outputs": [
        {
          "name": "stdout",
          "output_type": "stream",
          "text": [
            "   User ID Gender  Age  AnnualSalary  Purchased\n",
            "0      385   Male   35         20000          0\n",
            "1      681   Male   40         43500          0\n",
            "2      353   Male   49         74000          0\n",
            "3      895   Male   40        107500          1\n",
            "4      661   Male   25         79000          0\n",
            "(1000, 5)\n"
          ]
        }
      ],
      "source": [
        "car_data=pd.read_csv(\"https://prathapputhran.me/content/files/2022/10/car_data.csv\")\n",
        "print(car_data.head())\n",
        "print(car_data.shape)"
      ]
    },
    {
      "cell_type": "markdown",
      "id": "kNsSsaAqGdEf",
      "metadata": {
        "id": "kNsSsaAqGdEf"
      },
      "source": [
        "# Define x and y"
      ]
    },
    {
      "cell_type": "code",
      "execution_count": 554,
      "id": "57199635",
      "metadata": {
        "colab": {
          "base_uri": "https://localhost:8080/",
          "height": 0
        },
        "id": "57199635",
        "outputId": "0e83ac8c-0272-494e-c72b-f1640c0f267d"
      },
      "outputs": [
        {
          "name": "stdout",
          "output_type": "stream",
          "text": [
            "     Gender  Age  AnnualSalary\n",
            "0         1   35         20000\n",
            "1         1   40         43500\n",
            "2         1   49         74000\n",
            "3         1   40        107500\n",
            "4         1   25         79000\n",
            "..      ...  ...           ...\n",
            "995       1   38         59000\n",
            "996       0   47         23500\n",
            "997       0   28        138500\n",
            "998       0   48        134000\n",
            "999       0   44         73500\n",
            "\n",
            "[1000 rows x 3 columns]\n",
            "     Purchased\n",
            "0            0\n",
            "1            0\n",
            "2            0\n",
            "3            1\n",
            "4            0\n",
            "..         ...\n",
            "995          0\n",
            "996          0\n",
            "997          1\n",
            "998          1\n",
            "999          0\n",
            "\n",
            "[1000 rows x 1 columns]\n"
          ]
        }
      ],
      "source": [
        "x = car_data[['Gender','Age','AnnualSalary']]\n",
        "x['Gender'].replace({'Male':1,'Female':0},inplace=True)\n",
        "y= car_data[['Purchased']]\n",
        "\n",
        "print(x)\n",
        "print(y)"
      ]
    },
    {
      "cell_type": "markdown",
      "id": "gY-mIXnbGmUd",
      "metadata": {
        "id": "gY-mIXnbGmUd"
      },
      "source": [
        "# Split the DataSet in Training Set and Test set"
      ]
    },
    {
      "cell_type": "code",
      "execution_count": 543,
      "id": "9f716802",
      "metadata": {
        "colab": {
          "base_uri": "https://localhost:8080/",
          "height": 0
        },
        "id": "9f716802",
        "outputId": "7c3c7659-6886-44a5-b3d5-87cc32f86f0f"
      },
      "outputs": [
        {
          "name": "stdout",
          "output_type": "stream",
          "text": [
            "(950, 3)\n",
            "(50, 1)\n"
          ]
        }
      ],
      "source": [
        "from sklearn.model_selection import train_test_split\n",
        "x_train,x_test,y_train,y_test=train_test_split(x,y,test_size=0.05,random_state=0)\n",
        "print(x_train.shape)\n",
        "print(y_test.shape)"
      ]
    },
    {
      "cell_type": "markdown",
      "id": "uAvAP7MYGq01",
      "metadata": {
        "id": "uAvAP7MYGq01"
      },
      "source": [
        "# Training the Model on the Training Set"
      ]
    },
    {
      "cell_type": "code",
      "execution_count": 555,
      "id": "e2e15bdc",
      "metadata": {
        "colab": {
          "base_uri": "https://localhost:8080/",
          "height": 0
        },
        "id": "e2e15bdc",
        "outputId": "f5655841-6520-480a-9077-8e1342600c9b"
      },
      "outputs": [
        {
          "data": {
            "text/plain": [
              "MLPClassifier(hidden_layer_sizes=(3, 2))"
            ]
          },
          "execution_count": 555,
          "metadata": {},
          "output_type": "execute_result"
        }
      ],
      "source": [
        "from sklearn.neural_network import MLPClassifier\n",
        "mlp = MLPClassifier(hidden_layer_sizes=(3,2) , activation='relu')\n",
        "mlp.fit(x_train,y_train)"
      ]
    },
    {
      "cell_type": "markdown",
      "id": "YiIKDqUjG50G",
      "metadata": {
        "id": "YiIKDqUjG50G"
      },
      "source": [
        "# Predicting the Test Set Results"
      ]
    },
    {
      "cell_type": "code",
      "execution_count": 556,
      "id": "S0x7-YVhDAFG",
      "metadata": {
        "colab": {
          "base_uri": "https://localhost:8080/",
          "height": 0
        },
        "id": "S0x7-YVhDAFG",
        "outputId": "34c6e24d-6824-4138-f47e-1a64d7a921ae"
      },
      "outputs": [
        {
          "data": {
            "text/plain": [
              "array([0, 0, 0, 0, 0, 0, 0, 0, 0, 0, 0, 0, 0, 0, 0, 0, 0, 0, 0, 0, 0, 0,\n",
              "       0, 0, 0, 0, 0, 0, 0, 0, 0, 0, 0, 0, 0, 0, 0, 0, 0, 0, 0, 0, 0, 0,\n",
              "       0, 0, 0, 0, 0, 0])"
            ]
          },
          "execution_count": 556,
          "metadata": {},
          "output_type": "execute_result"
        }
      ],
      "source": [
        "pred = mlp.predict(x_test)\n",
        "pred"
      ]
    },
    {
      "cell_type": "markdown",
      "id": "avLz8xGtG_N3",
      "metadata": {
        "id": "avLz8xGtG_N3"
      },
      "source": [
        "# Evaluating the Model"
      ]
    },
    {
      "cell_type": "code",
      "execution_count": 548,
      "id": "9or3HOJqDHR1",
      "metadata": {
        "colab": {
          "base_uri": "https://localhost:8080/",
          "height": 0
        },
        "id": "9or3HOJqDHR1",
        "outputId": "74c5987a-99ab-4176-cc0a-1b8e270444ca"
      },
      "outputs": [
        {
          "data": {
            "text/plain": [
              "array([[34,  0],\n",
              "       [16,  0]])"
            ]
          },
          "execution_count": 548,
          "metadata": {},
          "output_type": "execute_result"
        }
      ],
      "source": [
        "from sklearn.metrics import classification_report,confusion_matrix,accuracy_score\n",
        "confusion_matrix(y_test,pred)"
      ]
    },
    {
      "cell_type": "code",
      "execution_count": 558,
      "id": "3snTDUJpDNOt",
      "metadata": {
        "colab": {
          "base_uri": "https://localhost:8080/",
          "height": 0
        },
        "id": "3snTDUJpDNOt",
        "outputId": "f02c683c-fd1c-42de-bfd9-58bcbefe47dd"
      },
      "outputs": [
        {
          "name": "stdout",
          "output_type": "stream",
          "text": [
            "              precision    recall  f1-score   support\n",
            "\n",
            "           0       0.68      1.00      0.81        34\n",
            "           1       0.00      0.00      0.00        16\n",
            "\n",
            "    accuracy                           0.68        50\n",
            "   macro avg       0.34      0.50      0.40        50\n",
            "weighted avg       0.46      0.68      0.55        50\n",
            "\n",
            "accuracy_score =  0.68\n"
          ]
        }
      ],
      "source": [
        "print(classification_report(y_test,pred))\n",
        "print(\"accuracy_score = \",accuracy_score(y_test,pred))\n"
      ]
    }
  ],
  "metadata": {
    "colab": {
      "provenance": []
    },
    "kernelspec": {
      "display_name": "Python 3.6.2 32-bit",
      "language": "python",
      "name": "python3"
    },
    "language_info": {
      "codemirror_mode": {
        "name": "ipython",
        "version": 3
      },
      "file_extension": ".py",
      "mimetype": "text/x-python",
      "name": "python",
      "nbconvert_exporter": "python",
      "pygments_lexer": "ipython3",
      "version": "3.6.2"
    },
    "vscode": {
      "interpreter": {
        "hash": "d207591e6ff77a7c5fb4cef0dd9fd3703274637a9d0902d2045beb3a65bf572a"
      }
    }
  },
  "nbformat": 4,
  "nbformat_minor": 5
}
