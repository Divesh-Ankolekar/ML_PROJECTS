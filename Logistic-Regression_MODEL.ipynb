{
 "cells": [
  {
   "cell_type": "markdown",
   "id": "13532307",
   "metadata": {},
   "source": [
    "# Group  2\n",
    "\n",
    "   #DIVESH D ANKOLEKAR (4NM20ME416)\n",
    "   \n",
    "   #JEEVAN M R (4NM20ME420)\n",
    "   \n",
    "   #PRATHAP P (4NM20ME442)"
   ]
  },
  {
   "cell_type": "markdown",
   "id": "327804bc",
   "metadata": {},
   "source": [
    "# Logistic Regression Model"
   ]
  },
  {
   "cell_type": "code",
   "execution_count": 71,
   "id": "4aac9470",
   "metadata": {},
   "outputs": [],
   "source": [
    "###.Developing a prediction model using logistic regression model for a dataset available in the standard database"
   ]
  },
  {
   "cell_type": "markdown",
   "id": "f26800e1",
   "metadata": {},
   "source": [
    "##Importing Libraries"
   ]
  },
  {
   "cell_type": "code",
   "execution_count": 45,
   "id": "78ae502c",
   "metadata": {},
   "outputs": [],
   "source": [
    "import pandas as pd\n",
    "import numpy as np\n",
    "from matplotlib import pyplot as plt\n",
    "%matplotlib inline"
   ]
  },
  {
   "cell_type": "markdown",
   "id": "2876520b",
   "metadata": {},
   "source": [
    "##Calling Data Set"
   ]
  },
  {
   "cell_type": "code",
   "execution_count": 64,
   "id": "e2aeb5bc",
   "metadata": {},
   "outputs": [],
   "source": [
    "df=pd.read_csv(\"C:\\\\Users\\\\DIVESH\\\\Documents\\\\car.csv\")"
   ]
  },
  {
   "cell_type": "code",
   "execution_count": 65,
   "id": "5310822f",
   "metadata": {},
   "outputs": [
    {
     "data": {
      "text/html": [
       "<div>\n",
       "<style scoped>\n",
       "    .dataframe tbody tr th:only-of-type {\n",
       "        vertical-align: middle;\n",
       "    }\n",
       "\n",
       "    .dataframe tbody tr th {\n",
       "        vertical-align: top;\n",
       "    }\n",
       "\n",
       "    .dataframe thead th {\n",
       "        text-align: right;\n",
       "    }\n",
       "</style>\n",
       "<table border=\"1\" class=\"dataframe\">\n",
       "  <thead>\n",
       "    <tr style=\"text-align: right;\">\n",
       "      <th></th>\n",
       "      <th>User ID</th>\n",
       "      <th>Gender</th>\n",
       "      <th>Age</th>\n",
       "      <th>AnnualSalary</th>\n",
       "      <th>Purchased</th>\n",
       "    </tr>\n",
       "  </thead>\n",
       "  <tbody>\n",
       "    <tr>\n",
       "      <th>0</th>\n",
       "      <td>385</td>\n",
       "      <td>Male</td>\n",
       "      <td>35</td>\n",
       "      <td>20000</td>\n",
       "      <td>0</td>\n",
       "    </tr>\n",
       "    <tr>\n",
       "      <th>1</th>\n",
       "      <td>681</td>\n",
       "      <td>Male</td>\n",
       "      <td>40</td>\n",
       "      <td>43500</td>\n",
       "      <td>0</td>\n",
       "    </tr>\n",
       "    <tr>\n",
       "      <th>2</th>\n",
       "      <td>353</td>\n",
       "      <td>Male</td>\n",
       "      <td>49</td>\n",
       "      <td>74000</td>\n",
       "      <td>0</td>\n",
       "    </tr>\n",
       "    <tr>\n",
       "      <th>3</th>\n",
       "      <td>895</td>\n",
       "      <td>Male</td>\n",
       "      <td>40</td>\n",
       "      <td>107500</td>\n",
       "      <td>1</td>\n",
       "    </tr>\n",
       "    <tr>\n",
       "      <th>4</th>\n",
       "      <td>661</td>\n",
       "      <td>Male</td>\n",
       "      <td>25</td>\n",
       "      <td>79000</td>\n",
       "      <td>0</td>\n",
       "    </tr>\n",
       "    <tr>\n",
       "      <th>...</th>\n",
       "      <td>...</td>\n",
       "      <td>...</td>\n",
       "      <td>...</td>\n",
       "      <td>...</td>\n",
       "      <td>...</td>\n",
       "    </tr>\n",
       "    <tr>\n",
       "      <th>995</th>\n",
       "      <td>863</td>\n",
       "      <td>Male</td>\n",
       "      <td>38</td>\n",
       "      <td>59000</td>\n",
       "      <td>0</td>\n",
       "    </tr>\n",
       "    <tr>\n",
       "      <th>996</th>\n",
       "      <td>800</td>\n",
       "      <td>Female</td>\n",
       "      <td>47</td>\n",
       "      <td>23500</td>\n",
       "      <td>0</td>\n",
       "    </tr>\n",
       "    <tr>\n",
       "      <th>997</th>\n",
       "      <td>407</td>\n",
       "      <td>Female</td>\n",
       "      <td>28</td>\n",
       "      <td>138500</td>\n",
       "      <td>1</td>\n",
       "    </tr>\n",
       "    <tr>\n",
       "      <th>998</th>\n",
       "      <td>299</td>\n",
       "      <td>Female</td>\n",
       "      <td>48</td>\n",
       "      <td>134000</td>\n",
       "      <td>1</td>\n",
       "    </tr>\n",
       "    <tr>\n",
       "      <th>999</th>\n",
       "      <td>687</td>\n",
       "      <td>Female</td>\n",
       "      <td>44</td>\n",
       "      <td>73500</td>\n",
       "      <td>0</td>\n",
       "    </tr>\n",
       "  </tbody>\n",
       "</table>\n",
       "<p>1000 rows × 5 columns</p>\n",
       "</div>"
      ],
      "text/plain": [
       "     User ID  Gender  Age  AnnualSalary  Purchased\n",
       "0        385    Male   35         20000          0\n",
       "1        681    Male   40         43500          0\n",
       "2        353    Male   49         74000          0\n",
       "3        895    Male   40        107500          1\n",
       "4        661    Male   25         79000          0\n",
       "..       ...     ...  ...           ...        ...\n",
       "995      863    Male   38         59000          0\n",
       "996      800  Female   47         23500          0\n",
       "997      407  Female   28        138500          1\n",
       "998      299  Female   48        134000          1\n",
       "999      687  Female   44         73500          0\n",
       "\n",
       "[1000 rows x 5 columns]"
      ]
     },
     "execution_count": 65,
     "metadata": {},
     "output_type": "execute_result"
    }
   ],
   "source": [
    "df"
   ]
  },
  {
   "cell_type": "markdown",
   "id": "84e995cd",
   "metadata": {},
   "source": [
    "##Defining Data"
   ]
  },
  {
   "cell_type": "code",
   "execution_count": 50,
   "id": "b57b2a15",
   "metadata": {},
   "outputs": [
    {
     "name": "stdout",
     "output_type": "stream",
     "text": [
      "   User ID Gender  Age  AnnualSalary  Purchased\n",
      "0      385   Male   35         20000          0\n",
      "1      681   Male   40         43500          0\n",
      "2      353   Male   49         74000          0\n",
      "3      895   Male   40        107500          1\n",
      "4      661   Male   25         79000          0\n"
     ]
    }
   ],
   "source": [
    "data = df[0:5]\n",
    "print(data)"
   ]
  },
  {
   "cell_type": "code",
   "execution_count": 72,
   "id": "1805dc09",
   "metadata": {},
   "outputs": [
    {
     "data": {
      "text/plain": [
       "<matplotlib.collections.PathCollection at 0x2a6722714c0>"
      ]
     },
     "execution_count": 72,
     "metadata": {},
     "output_type": "execute_result"
    },
    {
     "data": {
      "image/png": "[encoded data removed]",
      "text/plain": [
       "<Figure size 432x288 with 1 Axes>"
      ]
     },
     "metadata": {
      "needs_background": "light"
     },
     "output_type": "display_data"
    }
   ],
   "source": [
    "plt.scatter(df.Age,df.Purchased,marker='.',color='red')"
   ]
  },
  {
   "cell_type": "markdown",
   "id": "c93898aa",
   "metadata": {},
   "source": [
    "###Splitting Data Set in Training and Testing set from sklearn library"
   ]
  },
  {
   "cell_type": "code",
   "execution_count": 52,
   "id": "cbf04f7e",
   "metadata": {},
   "outputs": [],
   "source": [
    "from sklearn.model_selection import train_test_split"
   ]
  },
  {
   "cell_type": "code",
   "execution_count": 53,
   "id": "4514e6bf",
   "metadata": {},
   "outputs": [],
   "source": [
    "x_train, x_test, y_train, y_test = train_test_split(df[['Age']],df.Purchased,test_size=0.1)"
   ]
  },
  {
   "cell_type": "code",
   "execution_count": 54,
   "id": "482e71f1",
   "metadata": {},
   "outputs": [
    {
     "data": {
      "text/html": [
       "<div>\n",
       "<style scoped>\n",
       "    .dataframe tbody tr th:only-of-type {\n",
       "        vertical-align: middle;\n",
       "    }\n",
       "\n",
       "    .dataframe tbody tr th {\n",
       "        vertical-align: top;\n",
       "    }\n",
       "\n",
       "    .dataframe thead th {\n",
       "        text-align: right;\n",
       "    }\n",
       "</style>\n",
       "<table border=\"1\" class=\"dataframe\">\n",
       "  <thead>\n",
       "    <tr style=\"text-align: right;\">\n",
       "      <th></th>\n",
       "      <th>Age</th>\n",
       "    </tr>\n",
       "  </thead>\n",
       "  <tbody>\n",
       "    <tr>\n",
       "      <th>852</th>\n",
       "      <td>26</td>\n",
       "    </tr>\n",
       "    <tr>\n",
       "      <th>235</th>\n",
       "      <td>40</td>\n",
       "    </tr>\n",
       "    <tr>\n",
       "      <th>175</th>\n",
       "      <td>52</td>\n",
       "    </tr>\n",
       "    <tr>\n",
       "      <th>580</th>\n",
       "      <td>35</td>\n",
       "    </tr>\n",
       "    <tr>\n",
       "      <th>786</th>\n",
       "      <td>37</td>\n",
       "    </tr>\n",
       "    <tr>\n",
       "      <th>...</th>\n",
       "      <td>...</td>\n",
       "    </tr>\n",
       "    <tr>\n",
       "      <th>658</th>\n",
       "      <td>60</td>\n",
       "    </tr>\n",
       "    <tr>\n",
       "      <th>268</th>\n",
       "      <td>29</td>\n",
       "    </tr>\n",
       "    <tr>\n",
       "      <th>181</th>\n",
       "      <td>38</td>\n",
       "    </tr>\n",
       "    <tr>\n",
       "      <th>93</th>\n",
       "      <td>29</td>\n",
       "    </tr>\n",
       "    <tr>\n",
       "      <th>640</th>\n",
       "      <td>37</td>\n",
       "    </tr>\n",
       "  </tbody>\n",
       "</table>\n",
       "<p>100 rows × 1 columns</p>\n",
       "</div>"
      ],
      "text/plain": [
       "     Age\n",
       "852   26\n",
       "235   40\n",
       "175   52\n",
       "580   35\n",
       "786   37\n",
       "..   ...\n",
       "658   60\n",
       "268   29\n",
       "181   38\n",
       "93    29\n",
       "640   37\n",
       "\n",
       "[100 rows x 1 columns]"
      ]
     },
     "execution_count": 54,
     "metadata": {},
     "output_type": "execute_result"
    }
   ],
   "source": [
    "x_test"
   ]
  },
  {
   "cell_type": "markdown",
   "id": "c6d91452",
   "metadata": {},
   "source": [
    "###For Training and Testing the Data set from sklearn library"
   ]
  },
  {
   "cell_type": "code",
   "execution_count": 55,
   "id": "71644a56",
   "metadata": {},
   "outputs": [],
   "source": [
    "from sklearn.linear_model import LogisticRegression"
   ]
  },
  {
   "cell_type": "code",
   "execution_count": 56,
   "id": "0ade4ccf",
   "metadata": {},
   "outputs": [],
   "source": [
    "model = LogisticRegression()"
   ]
  },
  {
   "cell_type": "code",
   "execution_count": 57,
   "id": "f89d64d7",
   "metadata": {},
   "outputs": [
    {
     "data": {
      "text/plain": [
       "LogisticRegression()"
      ]
     },
     "execution_count": 57,
     "metadata": {},
     "output_type": "execute_result"
    }
   ],
   "source": [
    "model.fit(x_train,y_train)"
   ]
  },
  {
   "cell_type": "markdown",
   "id": "7f8a30bf",
   "metadata": {},
   "source": [
    "###Predicting Test Data"
   ]
  },
  {
   "cell_type": "code",
   "execution_count": 67,
   "id": "304f0e43",
   "metadata": {},
   "outputs": [
    {
     "data": {
      "text/plain": [
       "array([0, 0, 1, 0, 0, 1, 0, 1, 0, 1, 0, 0, 0, 0, 0, 0, 1, 0, 1, 1, 1, 1,\n",
       "       0, 0, 1, 0, 0, 0, 0, 0, 0, 0, 0, 0, 0, 1, 1, 0, 1, 1, 1, 0, 0, 1,\n",
       "       0, 0, 0, 1, 0, 0, 0, 0, 0, 0, 1, 1, 0, 1, 0, 0, 1, 0, 0, 0, 0, 1,\n",
       "       0, 1, 0, 0, 0, 1, 0, 1, 0, 0, 1, 1, 1, 1, 1, 0, 0, 1, 0, 0, 0, 0,\n",
       "       0, 1, 1, 0, 0, 0, 0, 1, 0, 0, 0, 0], dtype=int64)"
      ]
     },
     "execution_count": 67,
     "metadata": {},
     "output_type": "execute_result"
    }
   ],
   "source": [
    "model.predict(x_test)"
   ]
  },
  {
   "cell_type": "markdown",
   "id": "560aeb38",
   "metadata": {},
   "source": [
    "###Model Score"
   ]
  },
  {
   "cell_type": "code",
   "execution_count": 59,
   "id": "93bd12b4",
   "metadata": {},
   "outputs": [
    {
     "data": {
      "text/plain": [
       "0.8"
      ]
     },
     "execution_count": 59,
     "metadata": {},
     "output_type": "execute_result"
    }
   ],
   "source": [
    "model.score(x_test,y_test)"
   ]
  },
  {
   "cell_type": "markdown",
   "id": "cd20f022",
   "metadata": {},
   "source": [
    "###Prediction Probability"
   ]
  },
  {
   "cell_type": "code",
   "execution_count": 60,
   "id": "3cc70ad5",
   "metadata": {},
   "outputs": [
    {
     "data": {
      "text/plain": [
       "array([[0.96189038, 0.03810962],\n",
       "       [0.66538258, 0.33461742],\n",
       "       [0.18382019, 0.81617981],\n",
       "       [0.83130376, 0.16869624],\n",
       "       [0.77414869, 0.22585131],\n",
       "       [0.05008216, 0.94991784],\n",
       "       [0.58038787, 0.41961213],\n",
       "       [0.31763547, 0.68236453],\n",
       "       [0.62383783, 0.37616217],\n",
       "       [0.44518448, 0.55481552],\n",
       "       [0.66538258, 0.33461742],\n",
       "       [0.62383783, 0.37616217],\n",
       "       [0.66538258, 0.33461742],\n",
       "       [0.83130376, 0.16869624],\n",
       "       [0.53565478, 0.46434522],\n",
       "       [0.94611058, 0.05388942],\n",
       "       [0.11555749, 0.88444251],\n",
       "       [0.8043003 , 0.1956997 ],\n",
       "       [0.31763547, 0.68236453],\n",
       "       [0.09826138, 0.90173862],\n",
       "       [0.05008216, 0.94991784],\n",
       "       [0.15813363, 0.84186637],\n",
       "       [0.8043003 , 0.1956997 ],\n",
       "       [0.94611058, 0.05388942],\n",
       "       [0.2445917 , 0.7554083 ],\n",
       "       [0.92431107, 0.07568893],\n",
       "       [0.89467487, 0.10532513],\n",
       "       [0.58038787, 0.41961213],\n",
       "       [0.8043003 , 0.1956997 ],\n",
       "       [0.85525175, 0.14474825],\n",
       "       [0.95464978, 0.04535022],\n",
       "       [0.7045123 , 0.2954877 ],\n",
       "       [0.7045123 , 0.2954877 ],\n",
       "       [0.53565478, 0.46434522],\n",
       "       [0.77414869, 0.22585131],\n",
       "       [0.02967796, 0.97032204],\n",
       "       [0.03537551, 0.96462449],\n",
       "       [0.91059426, 0.08940574],\n",
       "       [0.05008216, 0.94991784],\n",
       "       [0.4009157 , 0.5990843 ],\n",
       "       [0.31763547, 0.68236453],\n",
       "       [0.62383783, 0.37616217],\n",
       "       [0.97318055, 0.02681945],\n",
       "       [0.11555749, 0.88444251],\n",
       "       [0.98900179, 0.01099821],\n",
       "       [0.85525175, 0.14474825],\n",
       "       [0.98119135, 0.01880865],\n",
       "       [0.31763547, 0.68236453],\n",
       "       [0.94611058, 0.05388942],\n",
       "       [0.77414869, 0.22585131],\n",
       "       [0.62383783, 0.37616217],\n",
       "       [0.62383783, 0.37616217],\n",
       "       [0.97753217, 0.02246783],\n",
       "       [0.58038787, 0.41961213],\n",
       "       [0.07045624, 0.92954376],\n",
       "       [0.18382019, 0.81617981],\n",
       "       [0.94611058, 0.05388942],\n",
       "       [0.2445917 , 0.7554083 ],\n",
       "       [0.53565478, 0.46434522],\n",
       "       [0.66538258, 0.33461742],\n",
       "       [0.05945687, 0.94054313],\n",
       "       [0.94611058, 0.05388942],\n",
       "       [0.91059426, 0.08940574],\n",
       "       [0.91059426, 0.08940574],\n",
       "       [0.58038787, 0.41961213],\n",
       "       [0.2445917 , 0.7554083 ],\n",
       "       [0.96801368, 0.03198632],\n",
       "       [0.44518448, 0.55481552],\n",
       "       [0.58038787, 0.41961213],\n",
       "       [0.85525175, 0.14474825],\n",
       "       [0.8043003 , 0.1956997 ],\n",
       "       [0.31763547, 0.68236453],\n",
       "       [0.96189038, 0.03810962],\n",
       "       [0.35820686, 0.64179314],\n",
       "       [0.62383783, 0.37616217],\n",
       "       [0.58038787, 0.41961213],\n",
       "       [0.1354408 , 0.8645592 ],\n",
       "       [0.05945687, 0.94054313],\n",
       "       [0.21262537, 0.78737463],\n",
       "       [0.11555749, 0.88444251],\n",
       "       [0.05945687, 0.94054313],\n",
       "       [0.62383783, 0.37616217],\n",
       "       [0.53565478, 0.46434522],\n",
       "       [0.44518448, 0.55481552],\n",
       "       [0.98900179, 0.01099821],\n",
       "       [0.89467487, 0.10532513],\n",
       "       [0.66538258, 0.33461742],\n",
       "       [0.8043003 , 0.1956997 ],\n",
       "       [0.92431107, 0.07568893],\n",
       "       [0.1354408 , 0.8645592 ],\n",
       "       [0.15813363, 0.84186637],\n",
       "       [0.95464978, 0.04535022],\n",
       "       [0.66538258, 0.33461742],\n",
       "       [0.91059426, 0.08940574],\n",
       "       [0.66538258, 0.33461742],\n",
       "       [0.05008216, 0.94991784],\n",
       "       [0.93607117, 0.06392883],\n",
       "       [0.74084841, 0.25915159],\n",
       "       [0.93607117, 0.06392883],\n",
       "       [0.77414869, 0.22585131]])"
      ]
     },
     "execution_count": 60,
     "metadata": {},
     "output_type": "execute_result"
    }
   ],
   "source": [
    "model.predict_proba(x_test)"
   ]
  },
  {
   "cell_type": "markdown",
   "id": "f064c02e",
   "metadata": {},
   "source": [
    "###Plotting Graph"
   ]
  },
  {
   "cell_type": "code",
   "execution_count": 69,
   "id": "b072ab3a",
   "metadata": {},
   "outputs": [],
   "source": [
    "import seaborn as sn\n",
    "from matplotlib import pyplot as plt"
   ]
  },
  {
   "cell_type": "code",
   "execution_count": 73,
   "id": "619c0b60",
   "metadata": {},
   "outputs": [
    {
     "name": "stdout",
     "output_type": "stream",
     "text": [
      "0      35\n",
      "1      40\n",
      "2      49\n",
      "3      40\n",
      "4      25\n",
      "       ..\n",
      "995    38\n",
      "996    47\n",
      "997    28\n",
      "998    48\n",
      "999    44\n",
      "Name: Age, Length: 1000, dtype: int64\n",
      "0      0\n",
      "1      0\n",
      "2      0\n",
      "3      1\n",
      "4      0\n",
      "      ..\n",
      "995    0\n",
      "996    0\n",
      "997    1\n",
      "998    1\n",
      "999    0\n",
      "Name: Purchased, Length: 1000, dtype: int64\n"
     ]
    },
    {
     "data": {
      "text/plain": [
       "<matplotlib.collections.PathCollection at 0x2a67229b370>"
      ]
     },
     "execution_count": 73,
     "metadata": {},
     "output_type": "execute_result"
    },
    {
     "data": {
      "image/png": "[encoded data removed]",
      "text/plain": [
       "<Figure size 432x288 with 1 Axes>"
      ]
     },
     "metadata": {
      "needs_background": "light"
     },
     "output_type": "display_data"
    }
   ],
   "source": [
    "x = df['Age']\n",
    "y = df['Purchased']\n",
    "print(x)\n",
    "print(y)\n",
    "sn.regplot(x = x, y=y, data = data, logistic = True, ci = None)\n",
    "plt.scatter(df.Age,df.Purchased,marker='.',color='red')\n",
    "#plt.plot(y,x , color = 'red')"
   ]
  },
  {
   "cell_type": "code",
   "execution_count": null,
   "id": "286dcb09",
   "metadata": {},
   "outputs": [],
   "source": []
  }
 ],
 "metadata": {
  "kernelspec": {
   "display_name": "Python 3 (ipykernel)",
   "language": "python",
   "name": "python3"
  },
  "language_info": {
   "codemirror_mode": {
    "name": "ipython",
    "version": 3
   },
   "file_extension": ".py",
   "mimetype": "text/x-python",
   "name": "python",
   "nbconvert_exporter": "python",
   "pygments_lexer": "ipython3",
   "version": "3.9.7"
  }
 },
 "nbformat": 4,
 "nbformat_minor": 5
}
