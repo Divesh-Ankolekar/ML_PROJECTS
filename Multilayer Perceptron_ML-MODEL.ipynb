{
 "cells": [
  {
   "cell_type": "markdown",
   "id": "4ac5b8bd",
   "metadata": {},
   "source": [
    "# Importing Libraries"
   ]
  },
  {
   "cell_type": "code",
   "execution_count": 33,
   "id": "5380cefa",
   "metadata": {},
   "outputs": [],
   "source": [
    "import pandas as pd\n",
    "import numpy as np \n",
    "import warnings\n",
    "warnings.filterwarnings('ignore')"
   ]
  },
  {
   "cell_type": "markdown",
   "id": "816a6b73",
   "metadata": {},
   "source": [
    "# Reading Data"
   ]
  },
  {
   "cell_type": "code",
   "execution_count": 34,
   "id": "863cf6fb",
   "metadata": {},
   "outputs": [
    {
     "name": "stdout",
     "output_type": "stream",
     "text": [
      "   User ID Gender  Age  AnnualSalary  Purchased\n",
      "0      385   Male   35         20000          0\n",
      "1      681   Male   40         43500          0\n",
      "2      353   Male   49         74000          0\n",
      "3      895   Male   40        107500          1\n",
      "4      661   Male   25         79000          0\n",
      "(1000, 5)\n"
     ]
    }
   ],
   "source": [
    "car_data=pd.read_csv(\"C:\\\\Users\\\\DIVESH\\\\Documents\\\\car.csv\")\n",
    "print(car_data.head())\n",
    "print(car_data.shape)"
   ]
  },
  {
   "cell_type": "markdown",
   "id": "97d1b433",
   "metadata": {},
   "source": [
    "# Define x and y"
   ]
  },
  {
   "cell_type": "code",
   "execution_count": 35,
   "id": "7773f9eb",
   "metadata": {},
   "outputs": [
    {
     "name": "stdout",
     "output_type": "stream",
     "text": [
      "     Gender  Age\n",
      "0         1   35\n",
      "1         1   40\n",
      "2         1   49\n",
      "3         1   40\n",
      "4         1   25\n",
      "..      ...  ...\n",
      "995       1   38\n",
      "996       0   47\n",
      "997       0   28\n",
      "998       0   48\n",
      "999       0   44\n",
      "\n",
      "[1000 rows x 2 columns]\n",
      "     Purchased\n",
      "0            0\n",
      "1            0\n",
      "2            0\n",
      "3            1\n",
      "4            0\n",
      "..         ...\n",
      "995          0\n",
      "996          0\n",
      "997          1\n",
      "998          1\n",
      "999          0\n",
      "\n",
      "[1000 rows x 1 columns]\n"
     ]
    }
   ],
   "source": [
    "x = car_data[['Gender','Age']]\n",
    "x['Gender'].replace({'Male':1,'Female':0},inplace=True)\n",
    "y= car_data[['Purchased']]\n",
    "\n",
    "print(x)\n",
    "print(y)"
   ]
  },
  {
   "cell_type": "markdown",
   "id": "63d30112",
   "metadata": {},
   "source": [
    "# Split the DataSet in Training Set and Test set"
   ]
  },
  {
   "cell_type": "code",
   "execution_count": 36,
   "id": "e9290536",
   "metadata": {},
   "outputs": [
    {
     "name": "stdout",
     "output_type": "stream",
     "text": [
      "(900, 2)\n",
      "(100, 1)\n"
     ]
    }
   ],
   "source": [
    "from sklearn.model_selection import train_test_split\n",
    "x_train,x_test,y_train,y_test=train_test_split(x,y,test_size=0.1,random_state=1)\n",
    "print(x_train.shape)\n",
    "print(y_test.shape)"
   ]
  },
  {
   "cell_type": "markdown",
   "id": "0cebcae6",
   "metadata": {},
   "source": [
    "# Training the Model on the Training Set"
   ]
  },
  {
   "cell_type": "code",
   "execution_count": 37,
   "id": "07680a73",
   "metadata": {},
   "outputs": [
    {
     "data": {
      "text/plain": [
       "MLPClassifier(hidden_layer_sizes=(3, 2))"
      ]
     },
     "execution_count": 37,
     "metadata": {},
     "output_type": "execute_result"
    }
   ],
   "source": [
    "from sklearn.neural_network import MLPClassifier\n",
    "mlp = MLPClassifier(hidden_layer_sizes=(3,2) , activation='relu')\n",
    "mlp.fit(x_train,y_train)"
   ]
  },
  {
   "cell_type": "markdown",
   "id": "9c1e3399",
   "metadata": {},
   "source": [
    "# Predicting the Test Set Results"
   ]
  },
  {
   "cell_type": "code",
   "execution_count": 38,
   "id": "8ec9c5bd",
   "metadata": {},
   "outputs": [
    {
     "data": {
      "text/plain": [
       "array([0, 0, 0, 0, 0, 0, 0, 0, 0, 0, 0, 1, 0, 0, 0, 0, 0, 0, 0, 1, 0, 0,\n",
       "       0, 0, 0, 0, 0, 0, 0, 0, 1, 0, 0, 0, 0, 0, 1, 0, 0, 0, 0, 0, 0, 1,\n",
       "       1, 1, 0, 1, 1, 0, 1, 0, 0, 1, 0, 1, 0, 0, 0, 0, 0, 0, 0, 0, 0, 0,\n",
       "       0, 1, 0, 0, 0, 1, 1, 0, 1, 0, 1, 0, 1, 0, 0, 0, 1, 0, 0, 0, 0, 0,\n",
       "       0, 0, 0, 1, 0, 0, 0, 1, 0, 0, 0, 0], dtype=int64)"
      ]
     },
     "execution_count": 38,
     "metadata": {},
     "output_type": "execute_result"
    }
   ],
   "source": [
    "pred = mlp.predict(x_test)\n",
    "pred"
   ]
  },
  {
   "cell_type": "markdown",
   "id": "6764ed2f",
   "metadata": {},
   "source": [
    "# Evaluating the Model"
   ]
  },
  {
   "cell_type": "code",
   "execution_count": 39,
   "id": "2a41d9a8",
   "metadata": {},
   "outputs": [
    {
     "data": {
      "text/plain": [
       "array([[64,  4],\n",
       "       [15, 17]], dtype=int64)"
      ]
     },
     "execution_count": 39,
     "metadata": {},
     "output_type": "execute_result"
    }
   ],
   "source": [
    "from sklearn.metrics import classification_report,confusion_matrix,accuracy_score\n",
    "confusion_matrix(y_test,pred)"
   ]
  },
  {
   "cell_type": "code",
   "execution_count": 40,
   "id": "343dc46b",
   "metadata": {},
   "outputs": [
    {
     "name": "stdout",
     "output_type": "stream",
     "text": [
      "              precision    recall  f1-score   support\n",
      "\n",
      "           0       0.81      0.94      0.87        68\n",
      "           1       0.81      0.53      0.64        32\n",
      "\n",
      "    accuracy                           0.81       100\n",
      "   macro avg       0.81      0.74      0.76       100\n",
      "weighted avg       0.81      0.81      0.80       100\n",
      "\n",
      "accuracy_score =  0.81\n"
     ]
    }
   ],
   "source": [
    "print(classification_report(y_test,pred))\n",
    "print(\"accuracy_score = \",accuracy_score(y_test,pred))"
   ]
  },
  {
   "cell_type": "code",
   "execution_count": null,
   "id": "92eacbf8",
   "metadata": {},
   "outputs": [],
   "source": []
  },
  {
   "cell_type": "code",
   "execution_count": null,
   "id": "ed7b68e2",
   "metadata": {},
   "outputs": [],
   "source": []
  }
 ],
 "metadata": {
  "kernelspec": {
   "display_name": "Python 3 (ipykernel)",
   "language": "python",
   "name": "python3"
  },
  "language_info": {
   "codemirror_mode": {
    "name": "ipython",
    "version": 3
   },
   "file_extension": ".py",
   "mimetype": "text/x-python",
   "name": "python",
   "nbconvert_exporter": "python",
   "pygments_lexer": "ipython3",
   "version": "3.9.7"
  }
 },
 "nbformat": 4,
 "nbformat_minor": 5
}
