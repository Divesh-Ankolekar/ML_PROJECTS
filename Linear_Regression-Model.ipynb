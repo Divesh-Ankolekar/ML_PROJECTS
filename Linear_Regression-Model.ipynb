{
 "cells": [
  {
   "cell_type": "markdown",
   "id": "0a9ebbda",
   "metadata": {},
   "source": [
    "# Machine Learning Model-1\n",
    "\n",
    "# Group 2\n",
    "\n",
    "   ##_DIVESH D ANKOLEKAR (4NM20ME416)\n",
    "   \n",
    "   ##_JEEVAN M R (4NM20ME420)\n",
    "   \n",
    "   ##_PRATHAP P (4NM20ME442)"
   ]
  },
  {
   "cell_type": "code",
   "execution_count": 1,
   "id": "a9cad2a2",
   "metadata": {},
   "outputs": [],
   "source": [
    "## Develop a prediction model using linear regression for a dataset available in the standard database listed below"
   ]
  },
  {
   "cell_type": "markdown",
   "id": "e7a8d22d",
   "metadata": {},
   "source": [
    "# Importing Libraries"
   ]
  },
  {
   "cell_type": "code",
   "execution_count": 2,
   "id": "16b1e63b",
   "metadata": {},
   "outputs": [],
   "source": [
    "import pandas as pd\n",
    "import numpy as np"
   ]
  },
  {
   "cell_type": "markdown",
   "id": "8b9e9b21",
   "metadata": {},
   "source": [
    "# import Data Set"
   ]
  },
  {
   "cell_type": "code",
   "execution_count": 3,
   "id": "f5c300dc",
   "metadata": {},
   "outputs": [],
   "source": [
    "data_df=pd.read_csv(\"C:\\\\Users\\\\DIVESH\\\\Documents\\\\model.csv\")"
   ]
  },
  {
   "cell_type": "code",
   "execution_count": 4,
   "id": "ad416664",
   "metadata": {},
   "outputs": [
    {
     "data": {
      "text/html": [
       "<div>\n",
       "<style scoped>\n",
       "    .dataframe tbody tr th:only-of-type {\n",
       "        vertical-align: middle;\n",
       "    }\n",
       "\n",
       "    .dataframe tbody tr th {\n",
       "        vertical-align: top;\n",
       "    }\n",
       "\n",
       "    .dataframe thead th {\n",
       "        text-align: right;\n",
       "    }\n",
       "</style>\n",
       "<table border=\"1\" class=\"dataframe\">\n",
       "  <thead>\n",
       "    <tr style=\"text-align: right;\">\n",
       "      <th></th>\n",
       "      <th>AT</th>\n",
       "      <th>V</th>\n",
       "      <th>AP</th>\n",
       "      <th>RH</th>\n",
       "      <th>PE</th>\n",
       "    </tr>\n",
       "  </thead>\n",
       "  <tbody>\n",
       "    <tr>\n",
       "      <th>0</th>\n",
       "      <td>8.34</td>\n",
       "      <td>40.77</td>\n",
       "      <td>1010.84</td>\n",
       "      <td>90.01</td>\n",
       "      <td>480.48</td>\n",
       "    </tr>\n",
       "    <tr>\n",
       "      <th>1</th>\n",
       "      <td>23.64</td>\n",
       "      <td>58.49</td>\n",
       "      <td>1011.40</td>\n",
       "      <td>74.20</td>\n",
       "      <td>445.75</td>\n",
       "    </tr>\n",
       "    <tr>\n",
       "      <th>2</th>\n",
       "      <td>29.74</td>\n",
       "      <td>56.90</td>\n",
       "      <td>1007.15</td>\n",
       "      <td>41.91</td>\n",
       "      <td>438.76</td>\n",
       "    </tr>\n",
       "    <tr>\n",
       "      <th>3</th>\n",
       "      <td>19.07</td>\n",
       "      <td>49.69</td>\n",
       "      <td>1007.22</td>\n",
       "      <td>76.79</td>\n",
       "      <td>453.09</td>\n",
       "    </tr>\n",
       "    <tr>\n",
       "      <th>4</th>\n",
       "      <td>11.80</td>\n",
       "      <td>40.66</td>\n",
       "      <td>1017.13</td>\n",
       "      <td>97.20</td>\n",
       "      <td>464.43</td>\n",
       "    </tr>\n",
       "    <tr>\n",
       "      <th>...</th>\n",
       "      <td>...</td>\n",
       "      <td>...</td>\n",
       "      <td>...</td>\n",
       "      <td>...</td>\n",
       "      <td>...</td>\n",
       "    </tr>\n",
       "    <tr>\n",
       "      <th>9563</th>\n",
       "      <td>15.12</td>\n",
       "      <td>48.92</td>\n",
       "      <td>1011.80</td>\n",
       "      <td>72.93</td>\n",
       "      <td>462.59</td>\n",
       "    </tr>\n",
       "    <tr>\n",
       "      <th>9564</th>\n",
       "      <td>33.41</td>\n",
       "      <td>77.95</td>\n",
       "      <td>1010.30</td>\n",
       "      <td>59.72</td>\n",
       "      <td>432.90</td>\n",
       "    </tr>\n",
       "    <tr>\n",
       "      <th>9565</th>\n",
       "      <td>15.99</td>\n",
       "      <td>43.34</td>\n",
       "      <td>1014.20</td>\n",
       "      <td>78.66</td>\n",
       "      <td>465.96</td>\n",
       "    </tr>\n",
       "    <tr>\n",
       "      <th>9566</th>\n",
       "      <td>17.65</td>\n",
       "      <td>59.87</td>\n",
       "      <td>1018.58</td>\n",
       "      <td>94.65</td>\n",
       "      <td>450.93</td>\n",
       "    </tr>\n",
       "    <tr>\n",
       "      <th>9567</th>\n",
       "      <td>23.68</td>\n",
       "      <td>51.30</td>\n",
       "      <td>1011.86</td>\n",
       "      <td>71.24</td>\n",
       "      <td>451.67</td>\n",
       "    </tr>\n",
       "  </tbody>\n",
       "</table>\n",
       "<p>9568 rows × 5 columns</p>\n",
       "</div>"
      ],
      "text/plain": [
       "         AT      V       AP     RH      PE\n",
       "0      8.34  40.77  1010.84  90.01  480.48\n",
       "1     23.64  58.49  1011.40  74.20  445.75\n",
       "2     29.74  56.90  1007.15  41.91  438.76\n",
       "3     19.07  49.69  1007.22  76.79  453.09\n",
       "4     11.80  40.66  1017.13  97.20  464.43\n",
       "...     ...    ...      ...    ...     ...\n",
       "9563  15.12  48.92  1011.80  72.93  462.59\n",
       "9564  33.41  77.95  1010.30  59.72  432.90\n",
       "9565  15.99  43.34  1014.20  78.66  465.96\n",
       "9566  17.65  59.87  1018.58  94.65  450.93\n",
       "9567  23.68  51.30  1011.86  71.24  451.67\n",
       "\n",
       "[9568 rows x 5 columns]"
      ]
     },
     "execution_count": 4,
     "metadata": {},
     "output_type": "execute_result"
    }
   ],
   "source": [
    "data_df"
   ]
  },
  {
   "cell_type": "markdown",
   "id": "219d36be",
   "metadata": {},
   "source": [
    "# Define x  and y"
   ]
  },
  {
   "cell_type": "code",
   "execution_count": 5,
   "id": "72dc2967",
   "metadata": {},
   "outputs": [],
   "source": [
    "x = data_df.drop(['PE'],axis=1).values\n",
    "y = data_df['PE'].values"
   ]
  },
  {
   "cell_type": "code",
   "execution_count": 6,
   "id": "08093a5a",
   "metadata": {},
   "outputs": [
    {
     "name": "stdout",
     "output_type": "stream",
     "text": [
      "[[   8.34   40.77 1010.84   90.01]\n",
      " [  23.64   58.49 1011.4    74.2 ]\n",
      " [  29.74   56.9  1007.15   41.91]\n",
      " ...\n",
      " [  15.99   43.34 1014.2    78.66]\n",
      " [  17.65   59.87 1018.58   94.65]\n",
      " [  23.68   51.3  1011.86   71.24]]\n"
     ]
    }
   ],
   "source": [
    "print(x)"
   ]
  },
  {
   "cell_type": "code",
   "execution_count": 7,
   "id": "1c054b98",
   "metadata": {},
   "outputs": [
    {
     "name": "stdout",
     "output_type": "stream",
     "text": [
      "[480.48 445.75 438.76 ... 465.96 450.93 451.67]\n"
     ]
    }
   ],
   "source": [
    "print(y)"
   ]
  },
  {
   "cell_type": "markdown",
   "id": "cea61570",
   "metadata": {},
   "source": [
    "# Split the DataSet in Training Set and Test set "
   ]
  },
  {
   "cell_type": "code",
   "execution_count": 8,
   "id": "e71f836f",
   "metadata": {},
   "outputs": [],
   "source": [
    "from sklearn.model_selection import train_test_split\n",
    "x_train,x_test,y_train,y_test=train_test_split(x,y,test_size=0.25,random_state=0)"
   ]
  },
  {
   "cell_type": "markdown",
   "id": "a17d18c0",
   "metadata": {},
   "source": [
    "# Training the Model on the Training Set"
   ]
  },
  {
   "cell_type": "code",
   "execution_count": 9,
   "id": "578b8bb4",
   "metadata": {},
   "outputs": [
    {
     "data": {
      "text/plain": [
       "LinearRegression()"
      ]
     },
     "execution_count": 9,
     "metadata": {},
     "output_type": "execute_result"
    }
   ],
   "source": [
    "from sklearn.linear_model import LinearRegression\n",
    "ml=LinearRegression()\n",
    "ml.fit(x_train,y_train)"
   ]
  },
  {
   "cell_type": "markdown",
   "id": "10c990cf",
   "metadata": {},
   "source": [
    "# Predicting the Test Set Results"
   ]
  },
  {
   "cell_type": "code",
   "execution_count": 10,
   "id": "be8652d3",
   "metadata": {},
   "outputs": [
    {
     "name": "stdout",
     "output_type": "stream",
     "text": [
      "[433.33404296 448.36262204 445.91904247 ... 474.5913693  463.59555113\n",
      " 428.08253171]\n"
     ]
    }
   ],
   "source": [
    "y_pred=ml.predict(x_test)\n",
    "print(y_pred)"
   ]
  },
  {
   "cell_type": "code",
   "execution_count": 11,
   "id": "cacdb2c4",
   "metadata": {},
   "outputs": [
    {
     "data": {
      "text/plain": [
       "array([477.14399449])"
      ]
     },
     "execution_count": 11,
     "metadata": {},
     "output_type": "execute_result"
    }
   ],
   "source": [
    "ml.predict([[8.34,40.77,1010.84,90.01]])"
   ]
  },
  {
   "cell_type": "markdown",
   "id": "88a66f5c",
   "metadata": {},
   "source": [
    "# Evaluating the Model"
   ]
  },
  {
   "cell_type": "code",
   "execution_count": 12,
   "id": "f574f77b",
   "metadata": {},
   "outputs": [
    {
     "data": {
      "text/plain": [
       "0.9294064964520519"
      ]
     },
     "execution_count": 12,
     "metadata": {},
     "output_type": "execute_result"
    }
   ],
   "source": [
    "from sklearn.metrics import r2_score\n",
    "r2_score(y_test,y_pred)"
   ]
  },
  {
   "cell_type": "markdown",
   "id": "ea6517b5",
   "metadata": {},
   "source": [
    "# Plotting the Results"
   ]
  },
  {
   "cell_type": "code",
   "execution_count": 13,
   "id": "d6e2793d",
   "metadata": {},
   "outputs": [
    {
     "data": {
      "text/plain": [
       "Text(0.5, 1.0, 'Actual vs Predicted')"
      ]
     },
     "execution_count": 13,
     "metadata": {},
     "output_type": "execute_result"
    },
    {
     "data": {
      "image/png": "[encoded data removed]",
      "text/plain": [
       "<Figure size 1080x720 with 1 Axes>"
      ]
     },
     "metadata": {
      "needs_background": "light"
     },
     "output_type": "display_data"
    }
   ],
   "source": [
    "import matplotlib.pyplot as plt\n",
    "plt.figure(figsize=(15,10))\n",
    "plt.scatter(y_test,y_pred)\n",
    "plt.plot(y,y , color = \"black\")\n",
    "plt.xlabel('Actual')\n",
    "plt.ylabel('Predicted')\n",
    "plt.title('Actual vs Predicted')\n"
   ]
  },
  {
   "cell_type": "markdown",
   "id": "b9703299",
   "metadata": {},
   "source": [
    "# Predicted Values"
   ]
  },
  {
   "cell_type": "code",
   "execution_count": 14,
   "id": "1b5e047f",
   "metadata": {},
   "outputs": [
    {
     "data": {
      "text/html": [
       "<div>\n",
       "<style scoped>\n",
       "    .dataframe tbody tr th:only-of-type {\n",
       "        vertical-align: middle;\n",
       "    }\n",
       "\n",
       "    .dataframe tbody tr th {\n",
       "        vertical-align: top;\n",
       "    }\n",
       "\n",
       "    .dataframe thead th {\n",
       "        text-align: right;\n",
       "    }\n",
       "</style>\n",
       "<table border=\"1\" class=\"dataframe\">\n",
       "  <thead>\n",
       "    <tr style=\"text-align: right;\">\n",
       "      <th></th>\n",
       "      <th>Actual Value</th>\n",
       "      <th>Predicted Value</th>\n",
       "      <th>Difference</th>\n",
       "    </tr>\n",
       "  </thead>\n",
       "  <tbody>\n",
       "    <tr>\n",
       "      <th>0</th>\n",
       "      <td>426.18</td>\n",
       "      <td>433.334043</td>\n",
       "      <td>-7.154043</td>\n",
       "    </tr>\n",
       "    <tr>\n",
       "      <th>1</th>\n",
       "      <td>451.10</td>\n",
       "      <td>448.362622</td>\n",
       "      <td>2.737378</td>\n",
       "    </tr>\n",
       "    <tr>\n",
       "      <th>2</th>\n",
       "      <td>442.87</td>\n",
       "      <td>445.919042</td>\n",
       "      <td>-3.049042</td>\n",
       "    </tr>\n",
       "    <tr>\n",
       "      <th>3</th>\n",
       "      <td>443.70</td>\n",
       "      <td>445.968740</td>\n",
       "      <td>-2.268740</td>\n",
       "    </tr>\n",
       "    <tr>\n",
       "      <th>4</th>\n",
       "      <td>460.59</td>\n",
       "      <td>462.831189</td>\n",
       "      <td>-2.241189</td>\n",
       "    </tr>\n",
       "    <tr>\n",
       "      <th>5</th>\n",
       "      <td>438.00</td>\n",
       "      <td>440.809339</td>\n",
       "      <td>-2.809339</td>\n",
       "    </tr>\n",
       "    <tr>\n",
       "      <th>6</th>\n",
       "      <td>484.31</td>\n",
       "      <td>482.730968</td>\n",
       "      <td>1.579032</td>\n",
       "    </tr>\n",
       "    <tr>\n",
       "      <th>7</th>\n",
       "      <td>464.18</td>\n",
       "      <td>462.249645</td>\n",
       "      <td>1.930355</td>\n",
       "    </tr>\n",
       "    <tr>\n",
       "      <th>8</th>\n",
       "      <td>452.53</td>\n",
       "      <td>451.260596</td>\n",
       "      <td>1.269404</td>\n",
       "    </tr>\n",
       "    <tr>\n",
       "      <th>9</th>\n",
       "      <td>445.54</td>\n",
       "      <td>445.440696</td>\n",
       "      <td>0.099304</td>\n",
       "    </tr>\n",
       "    <tr>\n",
       "      <th>10</th>\n",
       "      <td>435.14</td>\n",
       "      <td>441.148937</td>\n",
       "      <td>-6.008937</td>\n",
       "    </tr>\n",
       "    <tr>\n",
       "      <th>11</th>\n",
       "      <td>442.03</td>\n",
       "      <td>442.187895</td>\n",
       "      <td>-0.157895</td>\n",
       "    </tr>\n",
       "    <tr>\n",
       "      <th>12</th>\n",
       "      <td>454.02</td>\n",
       "      <td>456.255838</td>\n",
       "      <td>-2.235838</td>\n",
       "    </tr>\n",
       "    <tr>\n",
       "      <th>13</th>\n",
       "      <td>445.02</td>\n",
       "      <td>449.487176</td>\n",
       "      <td>-4.467176</td>\n",
       "    </tr>\n",
       "    <tr>\n",
       "      <th>14</th>\n",
       "      <td>446.53</td>\n",
       "      <td>449.490258</td>\n",
       "      <td>-2.960258</td>\n",
       "    </tr>\n",
       "    <tr>\n",
       "      <th>15</th>\n",
       "      <td>458.59</td>\n",
       "      <td>457.168657</td>\n",
       "      <td>1.421343</td>\n",
       "    </tr>\n",
       "    <tr>\n",
       "      <th>16</th>\n",
       "      <td>445.84</td>\n",
       "      <td>450.601249</td>\n",
       "      <td>-4.761249</td>\n",
       "    </tr>\n",
       "    <tr>\n",
       "      <th>17</th>\n",
       "      <td>471.46</td>\n",
       "      <td>468.848293</td>\n",
       "      <td>2.611707</td>\n",
       "    </tr>\n",
       "    <tr>\n",
       "      <th>18</th>\n",
       "      <td>452.84</td>\n",
       "      <td>454.555025</td>\n",
       "      <td>-1.715025</td>\n",
       "    </tr>\n",
       "    <tr>\n",
       "      <th>19</th>\n",
       "      <td>448.64</td>\n",
       "      <td>452.364986</td>\n",
       "      <td>-3.724986</td>\n",
       "    </tr>\n",
       "  </tbody>\n",
       "</table>\n",
       "</div>"
      ],
      "text/plain": [
       "    Actual Value  Predicted Value  Difference\n",
       "0         426.18       433.334043   -7.154043\n",
       "1         451.10       448.362622    2.737378\n",
       "2         442.87       445.919042   -3.049042\n",
       "3         443.70       445.968740   -2.268740\n",
       "4         460.59       462.831189   -2.241189\n",
       "5         438.00       440.809339   -2.809339\n",
       "6         484.31       482.730968    1.579032\n",
       "7         464.18       462.249645    1.930355\n",
       "8         452.53       451.260596    1.269404\n",
       "9         445.54       445.440696    0.099304\n",
       "10        435.14       441.148937   -6.008937\n",
       "11        442.03       442.187895   -0.157895\n",
       "12        454.02       456.255838   -2.235838\n",
       "13        445.02       449.487176   -4.467176\n",
       "14        446.53       449.490258   -2.960258\n",
       "15        458.59       457.168657    1.421343\n",
       "16        445.84       450.601249   -4.761249\n",
       "17        471.46       468.848293    2.611707\n",
       "18        452.84       454.555025   -1.715025\n",
       "19        448.64       452.364986   -3.724986"
      ]
     },
     "execution_count": 14,
     "metadata": {},
     "output_type": "execute_result"
    }
   ],
   "source": [
    "pred_y_df=pd.DataFrame({'Actual Value' : y_test , 'Predicted Value' : y_pred , 'Difference' : y_test-y_pred})\n",
    "pred_y_df[0:20]"
   ]
  },
  {
   "cell_type": "code",
   "execution_count": null,
   "id": "7de93d32",
   "metadata": {},
   "outputs": [],
   "source": []
  }
 ],
 "metadata": {
  "kernelspec": {
   "display_name": "Python 3 (ipykernel)",
   "language": "python",
   "name": "python3"
  },
  "language_info": {
   "codemirror_mode": {
    "name": "ipython",
    "version": 3
   },
   "file_extension": ".py",
   "mimetype": "text/x-python",
   "name": "python",
   "nbconvert_exporter": "python",
   "pygments_lexer": "ipython3",
   "version": "3.9.7"
  }
 },
 "nbformat": 4,
 "nbformat_minor": 5
}
